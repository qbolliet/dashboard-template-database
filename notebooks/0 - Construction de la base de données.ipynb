{
 "cells": [
  {
   "cell_type": "markdown",
   "metadata": {},
   "source": [
    "# 0 - Construction de la base de données"
   ]
  },
  {
   "cell_type": "markdown",
   "metadata": {},
   "source": [
    "## Importation des modules"
   ]
  },
  {
   "cell_type": "code",
   "execution_count": 1,
   "metadata": {},
   "outputs": [],
   "source": [
    "# Modules de base\n",
    "import os\n",
    "import json\n",
    "import pandas as pd\n",
    "import sys\n",
    "import yaml\n",
    "\n",
    "# Ajout du chemin\n",
    "sys.path.append('..')\n",
    "\n",
    "# Importation des modules ad hoc\n",
    "from dashboard_template_database.builders.schema import SchemaBuilder\n",
    "from dashboard_template_database.builders.tables import DuckdbTablesBuilder\n",
    "from dashboard_template_database.loaders.local.loader import Loader\n",
    "\n",
    "# Chargement du fichier de configurations\n",
    "with open(\"../config.yaml\") as file:\n",
    "    config = yaml.safe_load(file)\n",
    "\n",
    "# Chargement du fichier de parmaètres\n",
    "with open(\"../parameters/labels.json\") as file:\n",
    "    labels = json.load(file)\n"
   ]
  },
  {
   "cell_type": "markdown",
   "metadata": {},
   "source": [
    "## Importation des données"
   ]
  },
  {
   "cell_type": "code",
   "execution_count": 2,
   "metadata": {},
   "outputs": [
    {
     "data": {
      "text/html": [
       "<div>\n",
       "<style scoped>\n",
       "    .dataframe tbody tr th:only-of-type {\n",
       "        vertical-align: middle;\n",
       "    }\n",
       "\n",
       "    .dataframe tbody tr th {\n",
       "        vertical-align: top;\n",
       "    }\n",
       "\n",
       "    .dataframe thead th {\n",
       "        text-align: right;\n",
       "    }\n",
       "</style>\n",
       "<table border=\"1\" class=\"dataframe\">\n",
       "  <thead>\n",
       "    <tr style=\"text-align: right;\">\n",
       "      <th></th>\n",
       "      <th>indicator</th>\n",
       "      <th>country</th>\n",
       "      <th>date</th>\n",
       "      <th>value</th>\n",
       "      <th>kind</th>\n",
       "      <th>horizon</th>\n",
       "      <th>week</th>\n",
       "      <th>model</th>\n",
       "      <th>training</th>\n",
       "    </tr>\n",
       "  </thead>\n",
       "  <tbody>\n",
       "    <tr>\n",
       "      <th>0</th>\n",
       "      <td>Gross Domestic Product</td>\n",
       "      <td>France</td>\n",
       "      <td>1960-04-01</td>\n",
       "      <td>0.375710</td>\n",
       "      <td>observed</td>\n",
       "      <td>NaN</td>\n",
       "      <td>NaN</td>\n",
       "      <td>NaN</td>\n",
       "      <td>NaN</td>\n",
       "    </tr>\n",
       "    <tr>\n",
       "      <th>1</th>\n",
       "      <td>Gross Domestic Product</td>\n",
       "      <td>France</td>\n",
       "      <td>1960-07-01</td>\n",
       "      <td>0.748561</td>\n",
       "      <td>observed</td>\n",
       "      <td>NaN</td>\n",
       "      <td>NaN</td>\n",
       "      <td>NaN</td>\n",
       "      <td>NaN</td>\n",
       "    </tr>\n",
       "    <tr>\n",
       "      <th>2</th>\n",
       "      <td>Gross Domestic Product</td>\n",
       "      <td>France</td>\n",
       "      <td>1960-10-01</td>\n",
       "      <td>1.185218</td>\n",
       "      <td>observed</td>\n",
       "      <td>NaN</td>\n",
       "      <td>NaN</td>\n",
       "      <td>NaN</td>\n",
       "      <td>NaN</td>\n",
       "    </tr>\n",
       "    <tr>\n",
       "      <th>3</th>\n",
       "      <td>Gross Domestic Product</td>\n",
       "      <td>France</td>\n",
       "      <td>1961-01-01</td>\n",
       "      <td>1.608374</td>\n",
       "      <td>observed</td>\n",
       "      <td>NaN</td>\n",
       "      <td>NaN</td>\n",
       "      <td>NaN</td>\n",
       "      <td>NaN</td>\n",
       "    </tr>\n",
       "    <tr>\n",
       "      <th>4</th>\n",
       "      <td>Gross Domestic Product</td>\n",
       "      <td>France</td>\n",
       "      <td>1961-04-01</td>\n",
       "      <td>1.600329</td>\n",
       "      <td>observed</td>\n",
       "      <td>NaN</td>\n",
       "      <td>NaN</td>\n",
       "      <td>NaN</td>\n",
       "      <td>NaN</td>\n",
       "    </tr>\n",
       "  </tbody>\n",
       "</table>\n",
       "</div>"
      ],
      "text/plain": [
       "                indicator country       date     value      kind  horizon  \\\n",
       "0  Gross Domestic Product  France 1960-04-01  0.375710  observed      NaN   \n",
       "1  Gross Domestic Product  France 1960-07-01  0.748561  observed      NaN   \n",
       "2  Gross Domestic Product  France 1960-10-01  1.185218  observed      NaN   \n",
       "3  Gross Domestic Product  France 1961-01-01  1.608374  observed      NaN   \n",
       "4  Gross Domestic Product  France 1961-04-01  1.600329  observed      NaN   \n",
       "\n",
       "   week model training  \n",
       "0   NaN   NaN      NaN  \n",
       "1   NaN   NaN      NaN  \n",
       "2   NaN   NaN      NaN  \n",
       "3   NaN   NaN      NaN  \n",
       "4   NaN   NaN      NaN  "
      ]
     },
     "execution_count": 2,
     "metadata": {},
     "output_type": "execute_result"
    }
   ],
   "source": [
    "# Initialisation du loader\n",
    "loader = Loader()\n",
    "# Importation des données\n",
    "df_origin = loader.load(os.path.join('../', config['INPUT_DATA']))\n",
    "# Conversion en datetime\n",
    "df_origin['date'] = pd.to_datetime(df_origin['date'])\n",
    "df_origin.head()"
   ]
  },
  {
   "cell_type": "markdown",
   "metadata": {},
   "source": [
    "## Construction du schéma"
   ]
  },
  {
   "cell_type": "markdown",
   "metadata": {},
   "source": [
    "### Initialisation de la classe"
   ]
  },
  {
   "cell_type": "code",
   "execution_count": 3,
   "metadata": {},
   "outputs": [],
   "source": [
    "# Initialisation du schéma\n",
    "schema_builder = SchemaBuilder(df=df_origin, categorical_threshold=config['THRESHOLD'])"
   ]
  },
  {
   "cell_type": "markdown",
   "metadata": {},
   "source": [
    "### Construction des méta-données"
   ]
  },
  {
   "cell_type": "code",
   "execution_count": 4,
   "metadata": {},
   "outputs": [
    {
     "name": "stderr",
     "output_type": "stream",
     "text": [
      "2025-01-08 22:32:45,797 - INFO - Successfully extracted meta-data from column 'indicator'\n",
      "2025-01-08 22:32:45,839 - INFO - The column 'indicator' is of type 'object' and the number of modalities 2 satisfies the categorical threshold criteria 200\n",
      "2025-01-08 22:32:45,840 - INFO - Successfully extracted meta-data from column 'country'\n",
      "2025-01-08 22:32:45,864 - INFO - The column 'country' is of type 'object' and the number of modalities 6 satisfies the categorical threshold criteria 200\n",
      "2025-01-08 22:32:45,866 - INFO - Successfully extracted meta-data from column 'date'\n",
      "2025-01-08 22:32:45,866 - INFO - Successfully extracted meta-data from column 'value'\n",
      "2025-01-08 22:32:45,867 - INFO - Successfully extracted meta-data from column 'kind'\n",
      "2025-01-08 22:32:45,892 - INFO - The column 'kind' is of type 'object' and the number of modalities 4 satisfies the categorical threshold criteria 200\n",
      "2025-01-08 22:32:45,893 - INFO - Successfully extracted meta-data from column 'horizon'\n",
      "2025-01-08 22:32:45,894 - INFO - Successfully extracted meta-data from column 'week'\n",
      "2025-01-08 22:32:45,895 - INFO - Successfully extracted meta-data from column 'model'\n",
      "2025-01-08 22:32:45,912 - INFO - The column 'model' is of type 'object' and the number of modalities 6 satisfies the categorical threshold criteria 200\n",
      "2025-01-08 22:32:45,913 - INFO - Successfully extracted meta-data from column 'training'\n",
      "2025-01-08 22:32:45,931 - INFO - The column 'training' is of type 'object' and the number of modalities 2 satisfies the categorical threshold criteria 200\n",
      "2025-01-08 22:32:45,932 - INFO - Successfully built the meta-data DataFrame\n"
     ]
    },
    {
     "data": {
      "text/html": [
       "<div>\n",
       "<style scoped>\n",
       "    .dataframe tbody tr th:only-of-type {\n",
       "        vertical-align: middle;\n",
       "    }\n",
       "\n",
       "    .dataframe tbody tr th {\n",
       "        vertical-align: top;\n",
       "    }\n",
       "\n",
       "    .dataframe thead th {\n",
       "        text-align: right;\n",
       "    }\n",
       "</style>\n",
       "<table border=\"1\" class=\"dataframe\">\n",
       "  <thead>\n",
       "    <tr style=\"text-align: right;\">\n",
       "      <th></th>\n",
       "      <th>name</th>\n",
       "      <th>label</th>\n",
       "      <th>python_type</th>\n",
       "      <th>sql_type</th>\n",
       "      <th>is_categorical</th>\n",
       "    </tr>\n",
       "  </thead>\n",
       "  <tbody>\n",
       "    <tr>\n",
       "      <th>0</th>\n",
       "      <td>country</td>\n",
       "      <td>Country</td>\n",
       "      <td>object</td>\n",
       "      <td>VARCHAR</td>\n",
       "      <td>True</td>\n",
       "    </tr>\n",
       "    <tr>\n",
       "      <th>1</th>\n",
       "      <td>date</td>\n",
       "      <td>Date</td>\n",
       "      <td>datetime64[ns]</td>\n",
       "      <td>TIMESTAMP</td>\n",
       "      <td>False</td>\n",
       "    </tr>\n",
       "    <tr>\n",
       "      <th>2</th>\n",
       "      <td>horizon</td>\n",
       "      <td>Horizon</td>\n",
       "      <td>float64</td>\n",
       "      <td>DOUBLE</td>\n",
       "      <td>False</td>\n",
       "    </tr>\n",
       "    <tr>\n",
       "      <th>3</th>\n",
       "      <td>indicator</td>\n",
       "      <td>Indicator</td>\n",
       "      <td>object</td>\n",
       "      <td>VARCHAR</td>\n",
       "      <td>True</td>\n",
       "    </tr>\n",
       "    <tr>\n",
       "      <th>4</th>\n",
       "      <td>kind</td>\n",
       "      <td>Kind</td>\n",
       "      <td>object</td>\n",
       "      <td>VARCHAR</td>\n",
       "      <td>True</td>\n",
       "    </tr>\n",
       "  </tbody>\n",
       "</table>\n",
       "</div>"
      ],
      "text/plain": [
       "        name      label     python_type   sql_type  is_categorical\n",
       "0    country    Country          object    VARCHAR            True\n",
       "1       date       Date  datetime64[ns]  TIMESTAMP           False\n",
       "2    horizon    Horizon         float64     DOUBLE           False\n",
       "3  indicator  Indicator          object    VARCHAR            True\n",
       "4       kind       Kind          object    VARCHAR            True"
      ]
     },
     "execution_count": 4,
     "metadata": {},
     "output_type": "execute_result"
    }
   ],
   "source": [
    "# Construction du jeu de métadonnées\n",
    "df_metadata = schema_builder.create_metadata_table(column_labels=labels)\n",
    "\n",
    "df_metadata.head()"
   ]
  },
  {
   "cell_type": "markdown",
   "metadata": {},
   "source": [
    "### Construction des tables de dimensions"
   ]
  },
  {
   "cell_type": "code",
   "execution_count": 5,
   "metadata": {},
   "outputs": [
    {
     "name": "stderr",
     "output_type": "stream",
     "text": [
      "2025-01-08 22:32:45,946 - INFO - Successfully extracted meta-data from column 'indicator'\n",
      "2025-01-08 22:32:45,986 - INFO - The column 'indicator' is of type 'object' and the number of modalities 2 satisfies the categorical threshold criteria 200\n",
      "2025-01-08 22:32:45,989 - INFO - Successfully extracted meta-data from column 'country'\n",
      "2025-01-08 22:32:46,015 - INFO - The column 'country' is of type 'object' and the number of modalities 6 satisfies the categorical threshold criteria 200\n",
      "2025-01-08 22:32:46,017 - INFO - Successfully extracted meta-data from column 'date'\n",
      "2025-01-08 22:32:46,018 - INFO - Successfully extracted meta-data from column 'value'\n",
      "2025-01-08 22:32:46,018 - INFO - Successfully extracted meta-data from column 'kind'\n",
      "2025-01-08 22:32:46,044 - INFO - The column 'kind' is of type 'object' and the number of modalities 4 satisfies the categorical threshold criteria 200\n",
      "2025-01-08 22:32:46,045 - INFO - Successfully extracted meta-data from column 'horizon'\n",
      "2025-01-08 22:32:46,046 - INFO - Successfully extracted meta-data from column 'week'\n",
      "2025-01-08 22:32:46,047 - INFO - Successfully extracted meta-data from column 'model'\n",
      "2025-01-08 22:32:46,065 - INFO - The column 'model' is of type 'object' and the number of modalities 6 satisfies the categorical threshold criteria 200\n",
      "2025-01-08 22:32:46,066 - INFO - Successfully extracted meta-data from column 'training'\n",
      "2025-01-08 22:32:46,082 - INFO - The column 'training' is of type 'object' and the number of modalities 2 satisfies the categorical threshold criteria 200\n",
      "2025-01-08 22:32:46,084 - INFO - Successfully built the meta-data DataFrame\n",
      "2025-01-08 22:32:46,122 - INFO - Successfully built dimension table for 'country'\n",
      "2025-01-08 22:32:46,165 - INFO - Successfully built dimension table for 'indicator'\n",
      "2025-01-08 22:32:46,189 - INFO - Successfully built dimension table for 'kind'\n",
      "2025-01-08 22:32:46,205 - INFO - Successfully built dimension table for 'model'\n",
      "2025-01-08 22:32:46,223 - INFO - Successfully built dimension table for 'training'\n",
      "2025-01-08 22:32:46,223 - INFO - Successfully built dimension tables\n"
     ]
    },
    {
     "data": {
      "text/html": [
       "<div>\n",
       "<style scoped>\n",
       "    .dataframe tbody tr th:only-of-type {\n",
       "        vertical-align: middle;\n",
       "    }\n",
       "\n",
       "    .dataframe tbody tr th {\n",
       "        vertical-align: top;\n",
       "    }\n",
       "\n",
       "    .dataframe thead th {\n",
       "        text-align: right;\n",
       "    }\n",
       "</style>\n",
       "<table border=\"1\" class=\"dataframe\">\n",
       "  <thead>\n",
       "    <tr style=\"text-align: right;\">\n",
       "      <th></th>\n",
       "      <th>value</th>\n",
       "      <th>label</th>\n",
       "    </tr>\n",
       "  </thead>\n",
       "  <tbody>\n",
       "    <tr>\n",
       "      <th>0</th>\n",
       "      <td>0</td>\n",
       "      <td>Gross Domestic Product</td>\n",
       "    </tr>\n",
       "    <tr>\n",
       "      <th>1</th>\n",
       "      <td>1</td>\n",
       "      <td>Private Consumption</td>\n",
       "    </tr>\n",
       "  </tbody>\n",
       "</table>\n",
       "</div>"
      ],
      "text/plain": [
       "   value                   label\n",
       "0      0  Gross Domestic Product\n",
       "1      1     Private Consumption"
      ]
     },
     "execution_count": 5,
     "metadata": {},
     "output_type": "execute_result"
    }
   ],
   "source": [
    "# Construction des types de dimensions\n",
    "dimension_tables = schema_builder.create_dimension_tables(column_labels=labels)\n",
    "dimension_tables['indicator'].head()"
   ]
  },
  {
   "cell_type": "markdown",
   "metadata": {},
   "source": [
    "### Construction de la table d'information"
   ]
  },
  {
   "cell_type": "code",
   "execution_count": 6,
   "metadata": {},
   "outputs": [
    {
     "name": "stderr",
     "output_type": "stream",
     "text": [
      "C:\\Users\\bolli\\OneDrive\\Documents\\COD Code\\dashboard-template-database\\dashboard_template_database\\builders\\schema.py:197: FutureWarning: Downcasting behavior in `replace` is deprecated and will be removed in a future version. To retain the old behavior, explicitly call `result.infer_objects(copy=False)`. To opt-in to the future behavior, set `pd.set_option('future.no_silent_downcasting', True)`\n",
      "  self.df_fact[column] = self.df_fact[column].replace(dict_label_value)\n",
      "2025-01-08 22:32:46,514 - INFO - Successfully replace modalities by ids in column 'country'\n",
      "C:\\Users\\bolli\\OneDrive\\Documents\\COD Code\\dashboard-template-database\\dashboard_template_database\\builders\\schema.py:197: FutureWarning: Downcasting behavior in `replace` is deprecated and will be removed in a future version. To retain the old behavior, explicitly call `result.infer_objects(copy=False)`. To opt-in to the future behavior, set `pd.set_option('future.no_silent_downcasting', True)`\n",
      "  self.df_fact[column] = self.df_fact[column].replace(dict_label_value)\n",
      "2025-01-08 22:32:46,660 - INFO - Successfully replace modalities by ids in column 'indicator'\n",
      "C:\\Users\\bolli\\OneDrive\\Documents\\COD Code\\dashboard-template-database\\dashboard_template_database\\builders\\schema.py:197: FutureWarning: Downcasting behavior in `replace` is deprecated and will be removed in a future version. To retain the old behavior, explicitly call `result.infer_objects(copy=False)`. To opt-in to the future behavior, set `pd.set_option('future.no_silent_downcasting', True)`\n",
      "  self.df_fact[column] = self.df_fact[column].replace(dict_label_value)\n",
      "2025-01-08 22:32:46,842 - INFO - Successfully replace modalities by ids in column 'kind'\n",
      "C:\\Users\\bolli\\OneDrive\\Documents\\COD Code\\dashboard-template-database\\dashboard_template_database\\builders\\schema.py:197: FutureWarning: Downcasting behavior in `replace` is deprecated and will be removed in a future version. To retain the old behavior, explicitly call `result.infer_objects(copy=False)`. To opt-in to the future behavior, set `pd.set_option('future.no_silent_downcasting', True)`\n",
      "  self.df_fact[column] = self.df_fact[column].replace(dict_label_value)\n",
      "2025-01-08 22:32:47,053 - INFO - Successfully replace modalities by ids in column 'model'\n",
      "C:\\Users\\bolli\\OneDrive\\Documents\\COD Code\\dashboard-template-database\\dashboard_template_database\\builders\\schema.py:197: FutureWarning: Downcasting behavior in `replace` is deprecated and will be removed in a future version. To retain the old behavior, explicitly call `result.infer_objects(copy=False)`. To opt-in to the future behavior, set `pd.set_option('future.no_silent_downcasting', True)`\n",
      "  self.df_fact[column] = self.df_fact[column].replace(dict_label_value)\n",
      "2025-01-08 22:32:47,205 - INFO - Successfully replace modalities by ids in column 'training'\n",
      "2025-01-08 22:32:47,206 - INFO - Successfully built fact table\n"
     ]
    },
    {
     "data": {
      "text/html": [
       "<div>\n",
       "<style scoped>\n",
       "    .dataframe tbody tr th:only-of-type {\n",
       "        vertical-align: middle;\n",
       "    }\n",
       "\n",
       "    .dataframe tbody tr th {\n",
       "        vertical-align: top;\n",
       "    }\n",
       "\n",
       "    .dataframe thead th {\n",
       "        text-align: right;\n",
       "    }\n",
       "</style>\n",
       "<table border=\"1\" class=\"dataframe\">\n",
       "  <thead>\n",
       "    <tr style=\"text-align: right;\">\n",
       "      <th></th>\n",
       "      <th>indicator</th>\n",
       "      <th>country</th>\n",
       "      <th>date</th>\n",
       "      <th>value</th>\n",
       "      <th>kind</th>\n",
       "      <th>horizon</th>\n",
       "      <th>week</th>\n",
       "      <th>model</th>\n",
       "      <th>training</th>\n",
       "    </tr>\n",
       "  </thead>\n",
       "  <tbody>\n",
       "    <tr>\n",
       "      <th>0</th>\n",
       "      <td>0</td>\n",
       "      <td>0</td>\n",
       "      <td>1960-04-01</td>\n",
       "      <td>0.375710</td>\n",
       "      <td>0</td>\n",
       "      <td>NaN</td>\n",
       "      <td>NaN</td>\n",
       "      <td>0.0</td>\n",
       "      <td>0.0</td>\n",
       "    </tr>\n",
       "    <tr>\n",
       "      <th>1</th>\n",
       "      <td>0</td>\n",
       "      <td>0</td>\n",
       "      <td>1960-07-01</td>\n",
       "      <td>0.748561</td>\n",
       "      <td>0</td>\n",
       "      <td>NaN</td>\n",
       "      <td>NaN</td>\n",
       "      <td>0.0</td>\n",
       "      <td>0.0</td>\n",
       "    </tr>\n",
       "    <tr>\n",
       "      <th>2</th>\n",
       "      <td>0</td>\n",
       "      <td>0</td>\n",
       "      <td>1960-10-01</td>\n",
       "      <td>1.185218</td>\n",
       "      <td>0</td>\n",
       "      <td>NaN</td>\n",
       "      <td>NaN</td>\n",
       "      <td>0.0</td>\n",
       "      <td>0.0</td>\n",
       "    </tr>\n",
       "    <tr>\n",
       "      <th>3</th>\n",
       "      <td>0</td>\n",
       "      <td>0</td>\n",
       "      <td>1961-01-01</td>\n",
       "      <td>1.608374</td>\n",
       "      <td>0</td>\n",
       "      <td>NaN</td>\n",
       "      <td>NaN</td>\n",
       "      <td>0.0</td>\n",
       "      <td>0.0</td>\n",
       "    </tr>\n",
       "    <tr>\n",
       "      <th>4</th>\n",
       "      <td>0</td>\n",
       "      <td>0</td>\n",
       "      <td>1961-04-01</td>\n",
       "      <td>1.600329</td>\n",
       "      <td>0</td>\n",
       "      <td>NaN</td>\n",
       "      <td>NaN</td>\n",
       "      <td>0.0</td>\n",
       "      <td>0.0</td>\n",
       "    </tr>\n",
       "  </tbody>\n",
       "</table>\n",
       "</div>"
      ],
      "text/plain": [
       "   indicator  country       date     value  kind  horizon  week  model  \\\n",
       "0          0        0 1960-04-01  0.375710     0      NaN   NaN    0.0   \n",
       "1          0        0 1960-07-01  0.748561     0      NaN   NaN    0.0   \n",
       "2          0        0 1960-10-01  1.185218     0      NaN   NaN    0.0   \n",
       "3          0        0 1961-01-01  1.608374     0      NaN   NaN    0.0   \n",
       "4          0        0 1961-04-01  1.600329     0      NaN   NaN    0.0   \n",
       "\n",
       "   training  \n",
       "0       0.0  \n",
       "1       0.0  \n",
       "2       0.0  \n",
       "3       0.0  \n",
       "4       0.0  "
      ]
     },
     "execution_count": 6,
     "metadata": {},
     "output_type": "execute_result"
    }
   ],
   "source": [
    "# Construction de la table d'informations\n",
    "df_fact = schema_builder.create_fact_table(column_labels=labels)\n",
    "df_fact.head()"
   ]
  },
  {
   "cell_type": "markdown",
   "metadata": {},
   "source": [
    "### Création de l'ensemble des tables"
   ]
  },
  {
   "cell_type": "code",
   "execution_count": 7,
   "metadata": {},
   "outputs": [
    {
     "name": "stderr",
     "output_type": "stream",
     "text": [
      "2025-01-08 22:32:47,220 - INFO - Successfully extracted meta-data from column 'indicator'\n",
      "2025-01-08 22:32:47,264 - INFO - The column 'indicator' is of type 'object' and the number of modalities 2 satisfies the categorical threshold criteria 200\n",
      "2025-01-08 22:32:47,265 - INFO - Successfully extracted meta-data from column 'country'\n",
      "2025-01-08 22:32:47,294 - INFO - The column 'country' is of type 'object' and the number of modalities 6 satisfies the categorical threshold criteria 200\n",
      "2025-01-08 22:32:47,295 - INFO - Successfully extracted meta-data from column 'date'\n",
      "2025-01-08 22:32:47,296 - INFO - Successfully extracted meta-data from column 'value'\n",
      "2025-01-08 22:32:47,298 - INFO - Successfully extracted meta-data from column 'kind'\n",
      "2025-01-08 22:32:47,325 - INFO - The column 'kind' is of type 'object' and the number of modalities 4 satisfies the categorical threshold criteria 200\n",
      "2025-01-08 22:32:47,326 - INFO - Successfully extracted meta-data from column 'horizon'\n",
      "2025-01-08 22:32:47,327 - INFO - Successfully extracted meta-data from column 'week'\n",
      "2025-01-08 22:32:47,328 - INFO - Successfully extracted meta-data from column 'model'\n",
      "2025-01-08 22:32:47,347 - INFO - The column 'model' is of type 'object' and the number of modalities 6 satisfies the categorical threshold criteria 200\n",
      "2025-01-08 22:32:47,348 - INFO - Successfully extracted meta-data from column 'training'\n",
      "2025-01-08 22:32:47,370 - INFO - The column 'training' is of type 'object' and the number of modalities 2 satisfies the categorical threshold criteria 200\n",
      "2025-01-08 22:32:47,371 - INFO - Successfully built the meta-data DataFrame\n",
      "2025-01-08 22:32:47,372 - INFO - Successfully extracted meta-data from column 'indicator'\n",
      "2025-01-08 22:32:47,413 - INFO - The column 'indicator' is of type 'object' and the number of modalities 2 satisfies the categorical threshold criteria 200\n",
      "2025-01-08 22:32:47,414 - INFO - Successfully extracted meta-data from column 'country'\n",
      "2025-01-08 22:32:47,442 - INFO - The column 'country' is of type 'object' and the number of modalities 6 satisfies the categorical threshold criteria 200\n",
      "2025-01-08 22:32:47,444 - INFO - Successfully extracted meta-data from column 'date'\n",
      "2025-01-08 22:32:47,446 - INFO - Successfully extracted meta-data from column 'value'\n",
      "2025-01-08 22:32:47,447 - INFO - Successfully extracted meta-data from column 'kind'\n",
      "2025-01-08 22:32:47,475 - INFO - The column 'kind' is of type 'object' and the number of modalities 4 satisfies the categorical threshold criteria 200\n",
      "2025-01-08 22:32:47,477 - INFO - Successfully extracted meta-data from column 'horizon'\n",
      "2025-01-08 22:32:47,478 - INFO - Successfully extracted meta-data from column 'week'\n",
      "2025-01-08 22:32:47,479 - INFO - Successfully extracted meta-data from column 'model'\n",
      "2025-01-08 22:32:47,498 - INFO - The column 'model' is of type 'object' and the number of modalities 6 satisfies the categorical threshold criteria 200\n",
      "2025-01-08 22:32:47,500 - INFO - Successfully extracted meta-data from column 'training'\n",
      "2025-01-08 22:32:47,522 - INFO - The column 'training' is of type 'object' and the number of modalities 2 satisfies the categorical threshold criteria 200\n",
      "2025-01-08 22:32:47,525 - INFO - Successfully built the meta-data DataFrame\n",
      "2025-01-08 22:32:47,558 - INFO - Successfully built dimension table for 'country'\n",
      "2025-01-08 22:32:47,613 - INFO - Successfully built dimension table for 'indicator'\n",
      "2025-01-08 22:32:47,648 - INFO - Successfully built dimension table for 'kind'\n",
      "2025-01-08 22:32:47,677 - INFO - Successfully built dimension table for 'model'\n",
      "2025-01-08 22:32:47,700 - INFO - Successfully built dimension table for 'training'\n",
      "2025-01-08 22:32:47,701 - INFO - Successfully built dimension tables\n",
      "C:\\Users\\bolli\\OneDrive\\Documents\\COD Code\\dashboard-template-database\\dashboard_template_database\\builders\\schema.py:197: FutureWarning: Downcasting behavior in `replace` is deprecated and will be removed in a future version. To retain the old behavior, explicitly call `result.infer_objects(copy=False)`. To opt-in to the future behavior, set `pd.set_option('future.no_silent_downcasting', True)`\n",
      "  self.df_fact[column] = self.df_fact[column].replace(dict_label_value)\n",
      "2025-01-08 22:32:48,027 - INFO - Successfully replace modalities by ids in column 'country'\n",
      "C:\\Users\\bolli\\OneDrive\\Documents\\COD Code\\dashboard-template-database\\dashboard_template_database\\builders\\schema.py:197: FutureWarning: Downcasting behavior in `replace` is deprecated and will be removed in a future version. To retain the old behavior, explicitly call `result.infer_objects(copy=False)`. To opt-in to the future behavior, set `pd.set_option('future.no_silent_downcasting', True)`\n",
      "  self.df_fact[column] = self.df_fact[column].replace(dict_label_value)\n",
      "2025-01-08 22:32:48,216 - INFO - Successfully replace modalities by ids in column 'indicator'\n",
      "C:\\Users\\bolli\\OneDrive\\Documents\\COD Code\\dashboard-template-database\\dashboard_template_database\\builders\\schema.py:197: FutureWarning: Downcasting behavior in `replace` is deprecated and will be removed in a future version. To retain the old behavior, explicitly call `result.infer_objects(copy=False)`. To opt-in to the future behavior, set `pd.set_option('future.no_silent_downcasting', True)`\n",
      "  self.df_fact[column] = self.df_fact[column].replace(dict_label_value)\n",
      "2025-01-08 22:32:48,548 - INFO - Successfully replace modalities by ids in column 'kind'\n",
      "C:\\Users\\bolli\\OneDrive\\Documents\\COD Code\\dashboard-template-database\\dashboard_template_database\\builders\\schema.py:197: FutureWarning: Downcasting behavior in `replace` is deprecated and will be removed in a future version. To retain the old behavior, explicitly call `result.infer_objects(copy=False)`. To opt-in to the future behavior, set `pd.set_option('future.no_silent_downcasting', True)`\n",
      "  self.df_fact[column] = self.df_fact[column].replace(dict_label_value)\n",
      "2025-01-08 22:32:48,833 - INFO - Successfully replace modalities by ids in column 'model'\n",
      "C:\\Users\\bolli\\OneDrive\\Documents\\COD Code\\dashboard-template-database\\dashboard_template_database\\builders\\schema.py:197: FutureWarning: Downcasting behavior in `replace` is deprecated and will be removed in a future version. To retain the old behavior, explicitly call `result.infer_objects(copy=False)`. To opt-in to the future behavior, set `pd.set_option('future.no_silent_downcasting', True)`\n",
      "  self.df_fact[column] = self.df_fact[column].replace(dict_label_value)\n",
      "2025-01-08 22:32:49,039 - INFO - Successfully replace modalities by ids in column 'training'\n",
      "2025-01-08 22:32:49,040 - INFO - Successfully built fact table\n"
     ]
    }
   ],
   "source": [
    "# Création de l'ensemble des tables du schéma\n",
    "df_metadata, dimension_tables, df_fact = schema_builder.build(column_labels=labels)"
   ]
  },
  {
   "cell_type": "markdown",
   "metadata": {},
   "source": [
    "## Construction de la base de données"
   ]
  },
  {
   "cell_type": "markdown",
   "metadata": {},
   "source": [
    "### Initialisation du builder"
   ]
  },
  {
   "cell_type": "code",
   "execution_count": 8,
   "metadata": {},
   "outputs": [],
   "source": [
    "# Initialisation du builder\n",
    "builder = DuckdbTablesBuilder(df=df_origin, categorical_threshold=config['THRESHOLD'], path=os.path.join('../', config['OUTPUT_DATA']))"
   ]
  },
  {
   "cell_type": "markdown",
   "metadata": {},
   "source": [
    "### Création du schéma"
   ]
  },
  {
   "cell_type": "code",
   "execution_count": 9,
   "metadata": {},
   "outputs": [
    {
     "name": "stderr",
     "output_type": "stream",
     "text": [
      "2025-01-08 22:32:49,073 - INFO - Successfully extracted meta-data from column 'indicator'\n",
      "2025-01-08 22:32:49,126 - INFO - The column 'indicator' is of type 'object' and the number of modalities 2 satisfies the categorical threshold criteria 200\n",
      "2025-01-08 22:32:49,128 - INFO - Successfully extracted meta-data from column 'country'\n",
      "2025-01-08 22:32:49,165 - INFO - The column 'country' is of type 'object' and the number of modalities 6 satisfies the categorical threshold criteria 200\n",
      "2025-01-08 22:32:49,166 - INFO - Successfully extracted meta-data from column 'date'\n",
      "2025-01-08 22:32:49,168 - INFO - Successfully extracted meta-data from column 'value'\n",
      "2025-01-08 22:32:49,169 - INFO - Successfully extracted meta-data from column 'kind'\n",
      "2025-01-08 22:32:49,207 - INFO - The column 'kind' is of type 'object' and the number of modalities 4 satisfies the categorical threshold criteria 200\n",
      "2025-01-08 22:32:49,209 - INFO - Successfully extracted meta-data from column 'horizon'\n",
      "2025-01-08 22:32:49,210 - INFO - Successfully extracted meta-data from column 'week'\n",
      "2025-01-08 22:32:49,211 - INFO - Successfully extracted meta-data from column 'model'\n",
      "2025-01-08 22:32:49,236 - INFO - The column 'model' is of type 'object' and the number of modalities 6 satisfies the categorical threshold criteria 200\n",
      "2025-01-08 22:32:49,238 - INFO - Successfully extracted meta-data from column 'training'\n",
      "2025-01-08 22:32:49,262 - INFO - The column 'training' is of type 'object' and the number of modalities 2 satisfies the categorical threshold criteria 200\n",
      "2025-01-08 22:32:49,265 - INFO - Successfully built the meta-data DataFrame\n",
      "2025-01-08 22:32:49,275 - INFO - Successfully registered duckdb meta-data table\n",
      "2025-01-08 22:32:49,277 - INFO - Successfully extracted meta-data from column 'indicator'\n",
      "2025-01-08 22:32:49,335 - INFO - The column 'indicator' is of type 'object' and the number of modalities 2 satisfies the categorical threshold criteria 200\n",
      "2025-01-08 22:32:49,336 - INFO - Successfully extracted meta-data from column 'country'\n",
      "2025-01-08 22:32:49,386 - INFO - The column 'country' is of type 'object' and the number of modalities 6 satisfies the categorical threshold criteria 200\n",
      "2025-01-08 22:32:49,388 - INFO - Successfully extracted meta-data from column 'date'\n",
      "2025-01-08 22:32:49,389 - INFO - Successfully extracted meta-data from column 'value'\n",
      "2025-01-08 22:32:49,390 - INFO - Successfully extracted meta-data from column 'kind'\n",
      "2025-01-08 22:32:49,438 - INFO - The column 'kind' is of type 'object' and the number of modalities 4 satisfies the categorical threshold criteria 200\n",
      "2025-01-08 22:32:49,440 - INFO - Successfully extracted meta-data from column 'horizon'\n",
      "2025-01-08 22:32:49,441 - INFO - Successfully extracted meta-data from column 'week'\n",
      "2025-01-08 22:32:49,448 - INFO - Successfully extracted meta-data from column 'model'\n",
      "2025-01-08 22:32:49,490 - INFO - The column 'model' is of type 'object' and the number of modalities 6 satisfies the categorical threshold criteria 200\n",
      "2025-01-08 22:32:49,492 - INFO - Successfully extracted meta-data from column 'training'\n",
      "2025-01-08 22:32:49,521 - INFO - The column 'training' is of type 'object' and the number of modalities 2 satisfies the categorical threshold criteria 200\n",
      "2025-01-08 22:32:49,523 - INFO - Successfully built the meta-data DataFrame\n",
      "2025-01-08 22:32:49,575 - INFO - Successfully built dimension table for 'country'\n",
      "2025-01-08 22:32:49,636 - INFO - Successfully built dimension table for 'indicator'\n",
      "2025-01-08 22:32:49,677 - INFO - Successfully built dimension table for 'kind'\n",
      "2025-01-08 22:32:49,706 - INFO - Successfully built dimension table for 'model'\n",
      "2025-01-08 22:32:49,735 - INFO - Successfully built dimension table for 'training'\n",
      "2025-01-08 22:32:49,736 - INFO - Successfully built dimension tables\n",
      "2025-01-08 22:32:49,742 - INFO - Successfully registered duckdb dimension table for country\n",
      "2025-01-08 22:32:49,747 - INFO - Successfully registered duckdb dimension table for indicator\n",
      "2025-01-08 22:32:49,753 - INFO - Successfully registered duckdb dimension table for kind\n",
      "2025-01-08 22:32:49,759 - INFO - Successfully registered duckdb dimension table for model\n",
      "2025-01-08 22:32:49,764 - INFO - Successfully registered duckdb dimension table for training\n",
      "C:\\Users\\bolli\\OneDrive\\Documents\\COD Code\\dashboard-template-database\\dashboard_template_database\\builders\\schema.py:197: FutureWarning: Downcasting behavior in `replace` is deprecated and will be removed in a future version. To retain the old behavior, explicitly call `result.infer_objects(copy=False)`. To opt-in to the future behavior, set `pd.set_option('future.no_silent_downcasting', True)`\n",
      "  self.df_fact[column] = self.df_fact[column].replace(dict_label_value)\n",
      "2025-01-08 22:32:50,175 - INFO - Successfully replace modalities by ids in column 'country'\n",
      "C:\\Users\\bolli\\OneDrive\\Documents\\COD Code\\dashboard-template-database\\dashboard_template_database\\builders\\schema.py:197: FutureWarning: Downcasting behavior in `replace` is deprecated and will be removed in a future version. To retain the old behavior, explicitly call `result.infer_objects(copy=False)`. To opt-in to the future behavior, set `pd.set_option('future.no_silent_downcasting', True)`\n",
      "  self.df_fact[column] = self.df_fact[column].replace(dict_label_value)\n",
      "2025-01-08 22:32:50,409 - INFO - Successfully replace modalities by ids in column 'indicator'\n",
      "C:\\Users\\bolli\\OneDrive\\Documents\\COD Code\\dashboard-template-database\\dashboard_template_database\\builders\\schema.py:197: FutureWarning: Downcasting behavior in `replace` is deprecated and will be removed in a future version. To retain the old behavior, explicitly call `result.infer_objects(copy=False)`. To opt-in to the future behavior, set `pd.set_option('future.no_silent_downcasting', True)`\n",
      "  self.df_fact[column] = self.df_fact[column].replace(dict_label_value)\n",
      "2025-01-08 22:32:50,666 - INFO - Successfully replace modalities by ids in column 'kind'\n",
      "C:\\Users\\bolli\\OneDrive\\Documents\\COD Code\\dashboard-template-database\\dashboard_template_database\\builders\\schema.py:197: FutureWarning: Downcasting behavior in `replace` is deprecated and will be removed in a future version. To retain the old behavior, explicitly call `result.infer_objects(copy=False)`. To opt-in to the future behavior, set `pd.set_option('future.no_silent_downcasting', True)`\n",
      "  self.df_fact[column] = self.df_fact[column].replace(dict_label_value)\n",
      "2025-01-08 22:32:50,961 - INFO - Successfully replace modalities by ids in column 'model'\n",
      "C:\\Users\\bolli\\OneDrive\\Documents\\COD Code\\dashboard-template-database\\dashboard_template_database\\builders\\schema.py:197: FutureWarning: Downcasting behavior in `replace` is deprecated and will be removed in a future version. To retain the old behavior, explicitly call `result.infer_objects(copy=False)`. To opt-in to the future behavior, set `pd.set_option('future.no_silent_downcasting', True)`\n",
      "  self.df_fact[column] = self.df_fact[column].replace(dict_label_value)\n",
      "2025-01-08 22:32:51,215 - INFO - Successfully replace modalities by ids in column 'training'\n",
      "2025-01-08 22:32:51,217 - INFO - Successfully built fact table\n",
      "2025-01-08 22:32:51,221 - INFO - Successfully created foreign key for dimension 'country'\n",
      "2025-01-08 22:32:51,222 - INFO - Successfully created foreign key for dimension 'indicator'\n",
      "2025-01-08 22:32:51,223 - INFO - Successfully created foreign key for dimension 'kind'\n",
      "2025-01-08 22:32:51,225 - INFO - Successfully created foreign key for dimension 'model'\n",
      "2025-01-08 22:32:51,226 - INFO - Successfully created foreign key for dimension 'training'\n",
      "2025-01-08 22:32:52,326 - INFO - Successfully registered duckdb fact table\n"
     ]
    }
   ],
   "source": [
    "# Construction du schéma duckDB\n",
    "builder.build_duckdb_schema()"
   ]
  },
  {
   "cell_type": "markdown",
   "metadata": {},
   "source": [
    "### Affichage du schéma"
   ]
  },
  {
   "cell_type": "code",
   "execution_count": 10,
   "metadata": {},
   "outputs": [
    {
     "name": "stderr",
     "output_type": "stream",
     "text": [
      "2025-01-08 22:32:52,405 - INFO - \n",
      " Created Tables:\n",
      "2025-01-08 22:32:52,406 - INFO - \n",
      " dim_country Structure:\n",
      "2025-01-08 22:32:52,408 - INFO -   value: BIGINT\n",
      "2025-01-08 22:32:52,409 - INFO -   label: VARCHAR\n",
      "2025-01-08 22:32:52,410 - INFO - \n",
      " dim_indicator Structure:\n",
      "2025-01-08 22:32:52,411 - INFO -   value: BIGINT\n",
      "2025-01-08 22:32:52,412 - INFO -   label: VARCHAR\n",
      "2025-01-08 22:32:52,413 - INFO - \n",
      " dim_kind Structure:\n",
      "2025-01-08 22:32:52,414 - INFO -   value: BIGINT\n",
      "2025-01-08 22:32:52,419 - INFO -   label: VARCHAR\n",
      "2025-01-08 22:32:52,420 - INFO - \n",
      " dim_model Structure:\n",
      "2025-01-08 22:32:52,422 - INFO -   value: BIGINT\n",
      "2025-01-08 22:32:52,423 - INFO -   label: VARCHAR\n",
      "2025-01-08 22:32:52,424 - INFO - \n",
      " dim_training Structure:\n",
      "2025-01-08 22:32:52,427 - INFO -   value: BIGINT\n",
      "2025-01-08 22:32:52,428 - INFO -   label: VARCHAR\n",
      "2025-01-08 22:32:52,429 - INFO - \n",
      " fact_table Structure:\n",
      "2025-01-08 22:32:52,431 - INFO -   indicator: BIGINT\n",
      "2025-01-08 22:32:52,434 - INFO -   country: BIGINT\n",
      "2025-01-08 22:32:52,436 - INFO -   date: TIMESTAMP_NS\n",
      "2025-01-08 22:32:52,437 - INFO -   value: DOUBLE\n",
      "2025-01-08 22:32:52,438 - INFO -   kind: BIGINT\n",
      "2025-01-08 22:32:52,439 - INFO -   horizon: DOUBLE\n",
      "2025-01-08 22:32:52,440 - INFO -   week: DOUBLE\n",
      "2025-01-08 22:32:52,441 - INFO -   model: DOUBLE\n",
      "2025-01-08 22:32:52,442 - INFO -   training: DOUBLE\n",
      "2025-01-08 22:32:52,443 - INFO -   value_1: BIGINT\n",
      "2025-01-08 22:32:52,444 - INFO -   label: VARCHAR\n",
      "2025-01-08 22:32:52,446 - INFO -   value_2: BIGINT\n",
      "2025-01-08 22:32:52,447 - INFO -   label_1: VARCHAR\n",
      "2025-01-08 22:32:52,448 - INFO -   value_3: BIGINT\n",
      "2025-01-08 22:32:52,449 - INFO -   label_2: VARCHAR\n",
      "2025-01-08 22:32:52,450 - INFO -   value_4: BIGINT\n",
      "2025-01-08 22:32:52,451 - INFO -   label_3: VARCHAR\n",
      "2025-01-08 22:32:52,452 - INFO -   value_5: BIGINT\n",
      "2025-01-08 22:32:52,454 - INFO -   label_4: VARCHAR\n",
      "2025-01-08 22:32:52,455 - INFO - \n",
      " metadata Structure:\n",
      "2025-01-08 22:32:52,457 - INFO -   name: VARCHAR\n",
      "2025-01-08 22:32:52,457 - INFO -   label: VARCHAR\n",
      "2025-01-08 22:32:52,459 - INFO -   python_type: VARCHAR\n",
      "2025-01-08 22:32:52,459 - INFO -   sql_type: VARCHAR\n",
      "2025-01-08 22:32:52,460 - INFO -   is_categorical: BOOLEAN\n"
     ]
    }
   ],
   "source": [
    "# Affichage du schéma\n",
    "builder.display_schema()"
   ]
  },
  {
   "cell_type": "markdown",
   "metadata": {},
   "source": [
    "### Exemple de requête"
   ]
  },
  {
   "cell_type": "code",
   "execution_count": 11,
   "metadata": {},
   "outputs": [
    {
     "name": "stdout",
     "output_type": "stream",
     "text": [
      "[(1, 'ElasticNetCV'), (2, 'ExtraTrees'), (3, 'LassoCV'), (4, 'RandomForest'), (5, 'RidgeCV'), (6, 'XGBStandard'), (0, None)]\n"
     ]
    }
   ],
   "source": [
    "# Requête de la table d'information\n",
    "print(builder.conn.execute(\"SELECT * FROM dim_model\").fetchall())"
   ]
  }
 ],
 "metadata": {
  "kernelspec": {
   "display_name": "dashboard-template-database-j5cMLKf4-py3.12",
   "language": "python",
   "name": "python3"
  },
  "language_info": {
   "codemirror_mode": {
    "name": "ipython",
    "version": 3
   },
   "file_extension": ".py",
   "mimetype": "text/x-python",
   "name": "python",
   "nbconvert_exporter": "python",
   "pygments_lexer": "ipython3",
   "version": "3.12.4"
  }
 },
 "nbformat": 4,
 "nbformat_minor": 2
}
