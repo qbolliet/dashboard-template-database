{
 "cells": [
  {
   "cell_type": "markdown",
   "metadata": {},
   "source": [
    "# 0 - Construction de la base de données"
   ]
  },
  {
   "cell_type": "markdown",
   "metadata": {},
   "source": [
    "## Importation des modules"
   ]
  },
  {
   "cell_type": "code",
   "execution_count": 1,
   "metadata": {},
   "outputs": [],
   "source": [
    "# Modules de base\n",
    "import pandas as pd\n",
    "import sys\n",
    "\n",
    "# Ajout du chemin\n",
    "sys.path.append('..')\n",
    "\n",
    "# Importation des modules ad hoc\n",
    "from dashboard_template_database.builders.schema import SchemaBuilder\n",
    "from dashboard_template_database.builders.tables import DuckdbTablesBuilder"
   ]
  },
  {
   "cell_type": "markdown",
   "metadata": {},
   "source": [
    "## Importation des données"
   ]
  },
  {
   "cell_type": "code",
   "execution_count": 2,
   "metadata": {},
   "outputs": [
    {
     "data": {
      "text/html": [
       "<div>\n",
       "<style scoped>\n",
       "    .dataframe tbody tr th:only-of-type {\n",
       "        vertical-align: middle;\n",
       "    }\n",
       "\n",
       "    .dataframe tbody tr th {\n",
       "        vertical-align: top;\n",
       "    }\n",
       "\n",
       "    .dataframe thead th {\n",
       "        text-align: right;\n",
       "    }\n",
       "</style>\n",
       "<table border=\"1\" class=\"dataframe\">\n",
       "  <thead>\n",
       "    <tr style=\"text-align: right;\">\n",
       "      <th></th>\n",
       "      <th>indicator</th>\n",
       "      <th>country</th>\n",
       "      <th>date</th>\n",
       "      <th>value</th>\n",
       "      <th>kind</th>\n",
       "      <th>horizon</th>\n",
       "      <th>week</th>\n",
       "      <th>model</th>\n",
       "      <th>training</th>\n",
       "    </tr>\n",
       "  </thead>\n",
       "  <tbody>\n",
       "    <tr>\n",
       "      <th>0</th>\n",
       "      <td>Gross Domestic Product</td>\n",
       "      <td>France</td>\n",
       "      <td>1960-04-01</td>\n",
       "      <td>0.375710</td>\n",
       "      <td>observed</td>\n",
       "      <td>NaN</td>\n",
       "      <td>NaN</td>\n",
       "      <td>NaN</td>\n",
       "      <td>NaN</td>\n",
       "    </tr>\n",
       "    <tr>\n",
       "      <th>1</th>\n",
       "      <td>Gross Domestic Product</td>\n",
       "      <td>France</td>\n",
       "      <td>1960-07-01</td>\n",
       "      <td>0.748561</td>\n",
       "      <td>observed</td>\n",
       "      <td>NaN</td>\n",
       "      <td>NaN</td>\n",
       "      <td>NaN</td>\n",
       "      <td>NaN</td>\n",
       "    </tr>\n",
       "    <tr>\n",
       "      <th>2</th>\n",
       "      <td>Gross Domestic Product</td>\n",
       "      <td>France</td>\n",
       "      <td>1960-10-01</td>\n",
       "      <td>1.185218</td>\n",
       "      <td>observed</td>\n",
       "      <td>NaN</td>\n",
       "      <td>NaN</td>\n",
       "      <td>NaN</td>\n",
       "      <td>NaN</td>\n",
       "    </tr>\n",
       "    <tr>\n",
       "      <th>3</th>\n",
       "      <td>Gross Domestic Product</td>\n",
       "      <td>France</td>\n",
       "      <td>1961-01-01</td>\n",
       "      <td>1.608374</td>\n",
       "      <td>observed</td>\n",
       "      <td>NaN</td>\n",
       "      <td>NaN</td>\n",
       "      <td>NaN</td>\n",
       "      <td>NaN</td>\n",
       "    </tr>\n",
       "    <tr>\n",
       "      <th>4</th>\n",
       "      <td>Gross Domestic Product</td>\n",
       "      <td>France</td>\n",
       "      <td>1961-04-01</td>\n",
       "      <td>1.600329</td>\n",
       "      <td>observed</td>\n",
       "      <td>NaN</td>\n",
       "      <td>NaN</td>\n",
       "      <td>NaN</td>\n",
       "      <td>NaN</td>\n",
       "    </tr>\n",
       "  </tbody>\n",
       "</table>\n",
       "</div>"
      ],
      "text/plain": [
       "                indicator country       date     value      kind  horizon  \\\n",
       "0  Gross Domestic Product  France 1960-04-01  0.375710  observed      NaN   \n",
       "1  Gross Domestic Product  France 1960-07-01  0.748561  observed      NaN   \n",
       "2  Gross Domestic Product  France 1960-10-01  1.185218  observed      NaN   \n",
       "3  Gross Domestic Product  France 1961-01-01  1.608374  observed      NaN   \n",
       "4  Gross Domestic Product  France 1961-04-01  1.600329  observed      NaN   \n",
       "\n",
       "   week model training  \n",
       "0   NaN   NaN      NaN  \n",
       "1   NaN   NaN      NaN  \n",
       "2   NaN   NaN      NaN  \n",
       "3   NaN   NaN      NaN  \n",
       "4   NaN   NaN      NaN  "
      ]
     },
     "execution_count": 2,
     "metadata": {},
     "output_type": "execute_result"
    }
   ],
   "source": [
    "# Importation des données\n",
    "df_origin = pd.read_csv('../data/df_origin.csv')\n",
    "# Conversion en datetime\n",
    "df_origin['date'] = pd.to_datetime(df_origin['date'])\n",
    "df_origin.head()"
   ]
  },
  {
   "cell_type": "markdown",
   "metadata": {},
   "source": [
    "## Construction du schéma"
   ]
  },
  {
   "cell_type": "markdown",
   "metadata": {},
   "source": [
    "### Initialisation de la classe"
   ]
  },
  {
   "cell_type": "code",
   "execution_count": 3,
   "metadata": {},
   "outputs": [],
   "source": [
    "# Initialisation du schéma\n",
    "schema_builder = SchemaBuilder(df=df_origin)"
   ]
  },
  {
   "cell_type": "markdown",
   "metadata": {},
   "source": [
    "### Construction des méta-données"
   ]
  },
  {
   "cell_type": "code",
   "execution_count": 4,
   "metadata": {},
   "outputs": [
    {
     "data": {
      "text/html": [
       "<div>\n",
       "<style scoped>\n",
       "    .dataframe tbody tr th:only-of-type {\n",
       "        vertical-align: middle;\n",
       "    }\n",
       "\n",
       "    .dataframe tbody tr th {\n",
       "        vertical-align: top;\n",
       "    }\n",
       "\n",
       "    .dataframe thead th {\n",
       "        text-align: right;\n",
       "    }\n",
       "</style>\n",
       "<table border=\"1\" class=\"dataframe\">\n",
       "  <thead>\n",
       "    <tr style=\"text-align: right;\">\n",
       "      <th></th>\n",
       "      <th>name</th>\n",
       "      <th>label</th>\n",
       "      <th>python_type</th>\n",
       "      <th>sql_type</th>\n",
       "      <th>is_categorical</th>\n",
       "      <th>modalities</th>\n",
       "    </tr>\n",
       "  </thead>\n",
       "  <tbody>\n",
       "    <tr>\n",
       "      <th>0</th>\n",
       "      <td>indicator</td>\n",
       "      <td>Indicator</td>\n",
       "      <td>object</td>\n",
       "      <td>VARCHAR</td>\n",
       "      <td>True</td>\n",
       "      <td>None</td>\n",
       "    </tr>\n",
       "    <tr>\n",
       "      <th>1</th>\n",
       "      <td>country</td>\n",
       "      <td>Country</td>\n",
       "      <td>object</td>\n",
       "      <td>VARCHAR</td>\n",
       "      <td>True</td>\n",
       "      <td>None</td>\n",
       "    </tr>\n",
       "    <tr>\n",
       "      <th>2</th>\n",
       "      <td>date</td>\n",
       "      <td>Date</td>\n",
       "      <td>datetime64[ns]</td>\n",
       "      <td>TIMESTAMP</td>\n",
       "      <td>False</td>\n",
       "      <td>None</td>\n",
       "    </tr>\n",
       "    <tr>\n",
       "      <th>3</th>\n",
       "      <td>value</td>\n",
       "      <td>Value</td>\n",
       "      <td>float64</td>\n",
       "      <td>DOUBLE</td>\n",
       "      <td>False</td>\n",
       "      <td>None</td>\n",
       "    </tr>\n",
       "    <tr>\n",
       "      <th>4</th>\n",
       "      <td>kind</td>\n",
       "      <td>Kind</td>\n",
       "      <td>object</td>\n",
       "      <td>VARCHAR</td>\n",
       "      <td>True</td>\n",
       "      <td>None</td>\n",
       "    </tr>\n",
       "  </tbody>\n",
       "</table>\n",
       "</div>"
      ],
      "text/plain": [
       "        name      label     python_type   sql_type  is_categorical modalities\n",
       "0  indicator  Indicator          object    VARCHAR            True       None\n",
       "1    country    Country          object    VARCHAR            True       None\n",
       "2       date       Date  datetime64[ns]  TIMESTAMP           False       None\n",
       "3      value      Value         float64     DOUBLE           False       None\n",
       "4       kind       Kind          object    VARCHAR            True       None"
      ]
     },
     "execution_count": 4,
     "metadata": {},
     "output_type": "execute_result"
    }
   ],
   "source": [
    "# Construction du jeu de métadonnées\n",
    "df_metadata = schema_builder.create_metadata_table()\n",
    "\n",
    "df_metadata.head()"
   ]
  },
  {
   "cell_type": "markdown",
   "metadata": {},
   "source": [
    "### Construction des tables de dimensions"
   ]
  },
  {
   "cell_type": "code",
   "execution_count": 5,
   "metadata": {},
   "outputs": [
    {
     "data": {
      "text/html": [
       "<div>\n",
       "<style scoped>\n",
       "    .dataframe tbody tr th:only-of-type {\n",
       "        vertical-align: middle;\n",
       "    }\n",
       "\n",
       "    .dataframe tbody tr th {\n",
       "        vertical-align: top;\n",
       "    }\n",
       "\n",
       "    .dataframe thead th {\n",
       "        text-align: right;\n",
       "    }\n",
       "</style>\n",
       "<table border=\"1\" class=\"dataframe\">\n",
       "  <thead>\n",
       "    <tr style=\"text-align: right;\">\n",
       "      <th></th>\n",
       "      <th>value</th>\n",
       "      <th>label</th>\n",
       "    </tr>\n",
       "  </thead>\n",
       "  <tbody>\n",
       "    <tr>\n",
       "      <th>0</th>\n",
       "      <td>0</td>\n",
       "      <td>Gross Domestic Product</td>\n",
       "    </tr>\n",
       "    <tr>\n",
       "      <th>1</th>\n",
       "      <td>1</td>\n",
       "      <td>Private Consumption</td>\n",
       "    </tr>\n",
       "  </tbody>\n",
       "</table>\n",
       "</div>"
      ],
      "text/plain": [
       "   value                   label\n",
       "0      0  Gross Domestic Product\n",
       "1      1     Private Consumption"
      ]
     },
     "execution_count": 5,
     "metadata": {},
     "output_type": "execute_result"
    }
   ],
   "source": [
    "# Construction des types de dimensions\n",
    "dimension_tables = schema_builder.create_dimension_tables()\n",
    "dimension_tables['indicator'].head()"
   ]
  },
  {
   "cell_type": "markdown",
   "metadata": {},
   "source": [
    "### Construction de la table d'information"
   ]
  },
  {
   "cell_type": "code",
   "execution_count": 6,
   "metadata": {},
   "outputs": [
    {
     "name": "stderr",
     "output_type": "stream",
     "text": [
      "c:\\Users\\bolli\\OneDrive\\Documents\\COD Code\\dashboard-template-database\\notebooks\\..\\dashboard_template_database\\builders\\schema.py:118: FutureWarning: Downcasting behavior in `replace` is deprecated and will be removed in a future version. To retain the old behavior, explicitly call `result.infer_objects(copy=False)`. To opt-in to the future behavior, set `pd.set_option('future.no_silent_downcasting', True)`\n",
      "  self.df_fact[column] = self.df_fact[column].replace(dict_label_value)\n",
      "c:\\Users\\bolli\\OneDrive\\Documents\\COD Code\\dashboard-template-database\\notebooks\\..\\dashboard_template_database\\builders\\schema.py:118: FutureWarning: Downcasting behavior in `replace` is deprecated and will be removed in a future version. To retain the old behavior, explicitly call `result.infer_objects(copy=False)`. To opt-in to the future behavior, set `pd.set_option('future.no_silent_downcasting', True)`\n",
      "  self.df_fact[column] = self.df_fact[column].replace(dict_label_value)\n",
      "c:\\Users\\bolli\\OneDrive\\Documents\\COD Code\\dashboard-template-database\\notebooks\\..\\dashboard_template_database\\builders\\schema.py:118: FutureWarning: Downcasting behavior in `replace` is deprecated and will be removed in a future version. To retain the old behavior, explicitly call `result.infer_objects(copy=False)`. To opt-in to the future behavior, set `pd.set_option('future.no_silent_downcasting', True)`\n",
      "  self.df_fact[column] = self.df_fact[column].replace(dict_label_value)\n",
      "c:\\Users\\bolli\\OneDrive\\Documents\\COD Code\\dashboard-template-database\\notebooks\\..\\dashboard_template_database\\builders\\schema.py:118: FutureWarning: Downcasting behavior in `replace` is deprecated and will be removed in a future version. To retain the old behavior, explicitly call `result.infer_objects(copy=False)`. To opt-in to the future behavior, set `pd.set_option('future.no_silent_downcasting', True)`\n",
      "  self.df_fact[column] = self.df_fact[column].replace(dict_label_value)\n",
      "c:\\Users\\bolli\\OneDrive\\Documents\\COD Code\\dashboard-template-database\\notebooks\\..\\dashboard_template_database\\builders\\schema.py:118: FutureWarning: Downcasting behavior in `replace` is deprecated and will be removed in a future version. To retain the old behavior, explicitly call `result.infer_objects(copy=False)`. To opt-in to the future behavior, set `pd.set_option('future.no_silent_downcasting', True)`\n",
      "  self.df_fact[column] = self.df_fact[column].replace(dict_label_value)\n"
     ]
    },
    {
     "data": {
      "text/html": [
       "<div>\n",
       "<style scoped>\n",
       "    .dataframe tbody tr th:only-of-type {\n",
       "        vertical-align: middle;\n",
       "    }\n",
       "\n",
       "    .dataframe tbody tr th {\n",
       "        vertical-align: top;\n",
       "    }\n",
       "\n",
       "    .dataframe thead th {\n",
       "        text-align: right;\n",
       "    }\n",
       "</style>\n",
       "<table border=\"1\" class=\"dataframe\">\n",
       "  <thead>\n",
       "    <tr style=\"text-align: right;\">\n",
       "      <th></th>\n",
       "      <th>indicator</th>\n",
       "      <th>country</th>\n",
       "      <th>date</th>\n",
       "      <th>value</th>\n",
       "      <th>kind</th>\n",
       "      <th>horizon</th>\n",
       "      <th>week</th>\n",
       "      <th>model</th>\n",
       "      <th>training</th>\n",
       "    </tr>\n",
       "  </thead>\n",
       "  <tbody>\n",
       "    <tr>\n",
       "      <th>0</th>\n",
       "      <td>0</td>\n",
       "      <td>0</td>\n",
       "      <td>1960-04-01</td>\n",
       "      <td>0.375710</td>\n",
       "      <td>0</td>\n",
       "      <td>NaN</td>\n",
       "      <td>NaN</td>\n",
       "      <td>0</td>\n",
       "      <td>0</td>\n",
       "    </tr>\n",
       "    <tr>\n",
       "      <th>1</th>\n",
       "      <td>0</td>\n",
       "      <td>0</td>\n",
       "      <td>1960-07-01</td>\n",
       "      <td>0.748561</td>\n",
       "      <td>0</td>\n",
       "      <td>NaN</td>\n",
       "      <td>NaN</td>\n",
       "      <td>0</td>\n",
       "      <td>0</td>\n",
       "    </tr>\n",
       "    <tr>\n",
       "      <th>2</th>\n",
       "      <td>0</td>\n",
       "      <td>0</td>\n",
       "      <td>1960-10-01</td>\n",
       "      <td>1.185218</td>\n",
       "      <td>0</td>\n",
       "      <td>NaN</td>\n",
       "      <td>NaN</td>\n",
       "      <td>0</td>\n",
       "      <td>0</td>\n",
       "    </tr>\n",
       "    <tr>\n",
       "      <th>3</th>\n",
       "      <td>0</td>\n",
       "      <td>0</td>\n",
       "      <td>1961-01-01</td>\n",
       "      <td>1.608374</td>\n",
       "      <td>0</td>\n",
       "      <td>NaN</td>\n",
       "      <td>NaN</td>\n",
       "      <td>0</td>\n",
       "      <td>0</td>\n",
       "    </tr>\n",
       "    <tr>\n",
       "      <th>4</th>\n",
       "      <td>0</td>\n",
       "      <td>0</td>\n",
       "      <td>1961-04-01</td>\n",
       "      <td>1.600329</td>\n",
       "      <td>0</td>\n",
       "      <td>NaN</td>\n",
       "      <td>NaN</td>\n",
       "      <td>0</td>\n",
       "      <td>0</td>\n",
       "    </tr>\n",
       "  </tbody>\n",
       "</table>\n",
       "</div>"
      ],
      "text/plain": [
       "   indicator  country       date     value  kind  horizon  week  model  \\\n",
       "0          0        0 1960-04-01  0.375710     0      NaN   NaN      0   \n",
       "1          0        0 1960-07-01  0.748561     0      NaN   NaN      0   \n",
       "2          0        0 1960-10-01  1.185218     0      NaN   NaN      0   \n",
       "3          0        0 1961-01-01  1.608374     0      NaN   NaN      0   \n",
       "4          0        0 1961-04-01  1.600329     0      NaN   NaN      0   \n",
       "\n",
       "   training  \n",
       "0         0  \n",
       "1         0  \n",
       "2         0  \n",
       "3         0  \n",
       "4         0  "
      ]
     },
     "execution_count": 6,
     "metadata": {},
     "output_type": "execute_result"
    }
   ],
   "source": [
    "# Construction de la table d'informations\n",
    "df_fact = schema_builder.create_fact_table()\n",
    "df_fact.head()"
   ]
  },
  {
   "cell_type": "markdown",
   "metadata": {},
   "source": [
    "### Création de l'ensemble des tables"
   ]
  },
  {
   "cell_type": "code",
   "execution_count": 7,
   "metadata": {},
   "outputs": [
    {
     "name": "stderr",
     "output_type": "stream",
     "text": [
      "c:\\Users\\bolli\\OneDrive\\Documents\\COD Code\\dashboard-template-database\\notebooks\\..\\dashboard_template_database\\builders\\schema.py:118: FutureWarning: Downcasting behavior in `replace` is deprecated and will be removed in a future version. To retain the old behavior, explicitly call `result.infer_objects(copy=False)`. To opt-in to the future behavior, set `pd.set_option('future.no_silent_downcasting', True)`\n",
      "  self.df_fact[column] = self.df_fact[column].replace(dict_label_value)\n",
      "c:\\Users\\bolli\\OneDrive\\Documents\\COD Code\\dashboard-template-database\\notebooks\\..\\dashboard_template_database\\builders\\schema.py:118: FutureWarning: Downcasting behavior in `replace` is deprecated and will be removed in a future version. To retain the old behavior, explicitly call `result.infer_objects(copy=False)`. To opt-in to the future behavior, set `pd.set_option('future.no_silent_downcasting', True)`\n",
      "  self.df_fact[column] = self.df_fact[column].replace(dict_label_value)\n",
      "c:\\Users\\bolli\\OneDrive\\Documents\\COD Code\\dashboard-template-database\\notebooks\\..\\dashboard_template_database\\builders\\schema.py:118: FutureWarning: Downcasting behavior in `replace` is deprecated and will be removed in a future version. To retain the old behavior, explicitly call `result.infer_objects(copy=False)`. To opt-in to the future behavior, set `pd.set_option('future.no_silent_downcasting', True)`\n",
      "  self.df_fact[column] = self.df_fact[column].replace(dict_label_value)\n",
      "c:\\Users\\bolli\\OneDrive\\Documents\\COD Code\\dashboard-template-database\\notebooks\\..\\dashboard_template_database\\builders\\schema.py:118: FutureWarning: Downcasting behavior in `replace` is deprecated and will be removed in a future version. To retain the old behavior, explicitly call `result.infer_objects(copy=False)`. To opt-in to the future behavior, set `pd.set_option('future.no_silent_downcasting', True)`\n",
      "  self.df_fact[column] = self.df_fact[column].replace(dict_label_value)\n",
      "c:\\Users\\bolli\\OneDrive\\Documents\\COD Code\\dashboard-template-database\\notebooks\\..\\dashboard_template_database\\builders\\schema.py:118: FutureWarning: Downcasting behavior in `replace` is deprecated and will be removed in a future version. To retain the old behavior, explicitly call `result.infer_objects(copy=False)`. To opt-in to the future behavior, set `pd.set_option('future.no_silent_downcasting', True)`\n",
      "  self.df_fact[column] = self.df_fact[column].replace(dict_label_value)\n"
     ]
    }
   ],
   "source": [
    "# Création de l'ensemble des tables du schéma\n",
    "df_metadata, dimension_tables, df_fact = schema_builder.build()"
   ]
  },
  {
   "cell_type": "markdown",
   "metadata": {},
   "source": [
    "## Construction de la base de données"
   ]
  },
  {
   "cell_type": "markdown",
   "metadata": {},
   "source": [
    "### Initialisation du builder"
   ]
  },
  {
   "cell_type": "code",
   "execution_count": 9,
   "metadata": {},
   "outputs": [],
   "source": [
    "# Initialisation du builder\n",
    "builder = DuckdbTablesBuilder(df=df_origin, path='../outputs/database.db')"
   ]
  },
  {
   "cell_type": "markdown",
   "metadata": {},
   "source": [
    "### Création du schéma"
   ]
  },
  {
   "cell_type": "code",
   "execution_count": null,
   "metadata": {},
   "outputs": [
    {
     "name": "stderr",
     "output_type": "stream",
     "text": [
      "c:\\Users\\bolli\\OneDrive\\Documents\\COD Code\\dashboard-template-database\\notebooks\\..\\dashboard_template_database\\builders\\schema.py:118: FutureWarning: Downcasting behavior in `replace` is deprecated and will be removed in a future version. To retain the old behavior, explicitly call `result.infer_objects(copy=False)`. To opt-in to the future behavior, set `pd.set_option('future.no_silent_downcasting', True)`\n",
      "  self.df_fact[column] = self.df_fact[column].replace(dict_label_value)\n",
      "c:\\Users\\bolli\\OneDrive\\Documents\\COD Code\\dashboard-template-database\\notebooks\\..\\dashboard_template_database\\builders\\schema.py:118: FutureWarning: Downcasting behavior in `replace` is deprecated and will be removed in a future version. To retain the old behavior, explicitly call `result.infer_objects(copy=False)`. To opt-in to the future behavior, set `pd.set_option('future.no_silent_downcasting', True)`\n",
      "  self.df_fact[column] = self.df_fact[column].replace(dict_label_value)\n",
      "c:\\Users\\bolli\\OneDrive\\Documents\\COD Code\\dashboard-template-database\\notebooks\\..\\dashboard_template_database\\builders\\schema.py:118: FutureWarning: Downcasting behavior in `replace` is deprecated and will be removed in a future version. To retain the old behavior, explicitly call `result.infer_objects(copy=False)`. To opt-in to the future behavior, set `pd.set_option('future.no_silent_downcasting', True)`\n",
      "  self.df_fact[column] = self.df_fact[column].replace(dict_label_value)\n",
      "c:\\Users\\bolli\\OneDrive\\Documents\\COD Code\\dashboard-template-database\\notebooks\\..\\dashboard_template_database\\builders\\schema.py:118: FutureWarning: Downcasting behavior in `replace` is deprecated and will be removed in a future version. To retain the old behavior, explicitly call `result.infer_objects(copy=False)`. To opt-in to the future behavior, set `pd.set_option('future.no_silent_downcasting', True)`\n",
      "  self.df_fact[column] = self.df_fact[column].replace(dict_label_value)\n",
      "c:\\Users\\bolli\\OneDrive\\Documents\\COD Code\\dashboard-template-database\\notebooks\\..\\dashboard_template_database\\builders\\schema.py:118: FutureWarning: Downcasting behavior in `replace` is deprecated and will be removed in a future version. To retain the old behavior, explicitly call `result.infer_objects(copy=False)`. To opt-in to the future behavior, set `pd.set_option('future.no_silent_downcasting', True)`\n",
      "  self.df_fact[column] = self.df_fact[column].replace(dict_label_value)\n"
     ]
    }
   ],
   "source": [
    "# Construction du schéma duckDB\n",
    "builder.build_duckdb_schema()"
   ]
  },
  {
   "cell_type": "markdown",
   "metadata": {},
   "source": [
    "### Affichage du schéma"
   ]
  },
  {
   "cell_type": "code",
   "execution_count": null,
   "metadata": {},
   "outputs": [
    {
     "name": "stdout",
     "output_type": "stream",
     "text": [
      "Created Tables:\n",
      "\n",
      "dim_country Structure:\n",
      "  value: BIGINT\n",
      "  label: VARCHAR\n",
      "\n",
      "dim_indicator Structure:\n",
      "  value: BIGINT\n",
      "  label: VARCHAR\n",
      "\n",
      "dim_kind Structure:\n",
      "  value: BIGINT\n",
      "  label: VARCHAR\n",
      "\n",
      "dim_model Structure:\n",
      "  value: BIGINT\n",
      "  label: VARCHAR\n",
      "\n",
      "dim_training Structure:\n",
      "  value: BIGINT\n",
      "  label: VARCHAR\n",
      "\n",
      "fact_table Structure:\n",
      "  indicator: BIGINT\n",
      "  country: BIGINT\n",
      "  kind: BIGINT\n",
      "  model: BIGINT\n",
      "  training: BIGINT\n",
      "  date: TIMESTAMP_NS\n",
      "  value: DOUBLE\n",
      "  horizon: DOUBLE\n",
      "  week: DOUBLE\n",
      "\n",
      "metadata Structure:\n",
      "  name: VARCHAR\n",
      "  label: VARCHAR\n",
      "  python_type: VARCHAR\n",
      "  sql_type: VARCHAR\n",
      "  is_categorical: BOOLEAN\n",
      "  modalities: INTEGER\n"
     ]
    }
   ],
   "source": [
    "# Affichage du schéma\n",
    "builder.display_schema()"
   ]
  },
  {
   "cell_type": "markdown",
   "metadata": {},
   "source": [
    "### Exemple de requête"
   ]
  },
  {
   "cell_type": "code",
   "execution_count": null,
   "metadata": {},
   "outputs": [],
   "source": [
    "# Requête de la table d'information\n",
    "print(builder.conn.execute(\"SELECT * FROM dim_modem\").fetchall())"
   ]
  }
 ],
 "metadata": {
  "kernelspec": {
   "display_name": "dashboard-template-database-j5cMLKf4-py3.12",
   "language": "python",
   "name": "python3"
  },
  "language_info": {
   "codemirror_mode": {
    "name": "ipython",
    "version": 3
   },
   "file_extension": ".py",
   "mimetype": "text/x-python",
   "name": "python",
   "nbconvert_exporter": "python",
   "pygments_lexer": "ipython3",
   "version": "3.12.4"
  }
 },
 "nbformat": 4,
 "nbformat_minor": 2
}
